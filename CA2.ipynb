{
 "cells": [
  {
   "cell_type": "markdown",
   "metadata": {},
   "source": [
    "# Simulating random variables\n",
    "Statistics <br>\n",
    "Department of Applied Mathematics\n",
    "\n",
    "**WHAT** You will learn how to\n",
    "* simulate discrete random variables;\n",
    "* simulate continuous random variables;\n",
    "* transform random variables.\n",
    "\n",
    "For the simulations, the Python command `uniform.rvs()` is crucial. It generates independent draws from an uniform distribution on [0,1]. You will learn methods that allow you to simulate any discrete or continuous random variable starting from the uniform distribution. <br>\n",
    "\n",
    "**WHY** Python and arguably any other available software has functions to simulate standard discrete and continuous distributions (i.e., normal, exponential, etc.). However, since the role of this assignment is to increase your understanding of the simulation process _itself_, we will not use these functions now. \n",
    "In practice, also non-standard distributions occur. Learning how to simulate distributions starting from a uniform random variable has the added benefit that you learn how to simulate these non-standard random variables. <br>\n",
    "\n",
    "**HOW** Follow the exercises in this notebook either on your own or with a friend. Talk to other students or ask for additional support from the TA's at the assigned lab session. The answers to these exercises will not be provided.\n",
    "\n",
    "**OPTIONAL EXTENSION** If you are wondering why we start with uniform random variables: these are the variables that are easy to generate using quasi-random algorithms.\n",
    "\n",
    "* * *\n",
    "\n",
    "Before we start with coding, run the following box, which loads some standard Python libraries. Note that just as last time, we work with numpy arrays. This time, we also work with the Scientific Python libraries SciPy."
   ]
  },
  {
   "cell_type": "code",
   "execution_count": 67,
   "metadata": {
    "tags": []
   },
   "outputs": [],
   "source": [
    "import numpy as np\n",
    "import pandas as pd\n",
    "import math\n",
    "import matplotlib.pyplot as plt\n",
    "\n",
    "from scipy.stats import uniform "
   ]
  },
  {
   "cell_type": "markdown",
   "metadata": {},
   "source": [
    "## Simulating discrete distributions\n",
    "\n",
    "Suppose we want to simulate the outcome of the throw of a die. Consider $X$ to be a discrete random variable whose values are the outcomes of the throw of a die. \n",
    "\n",
    "Starting from a uniform random variable on $[0,1]$, one could multiply by six and round up. To round up numbers you can use the command `np.ceil()`. See https://docs.scipy.org/doc/numpy/reference/generated/numpy.ceil.html.\n",
    "Carry out this procedure below. Run the cell a couple of times to see that your outcome is truly random."
   ]
  },
  {
   "cell_type": "code",
   "execution_count": 52,
   "metadata": {
    "tags": []
   },
   "outputs": [
    {
     "data": {
      "text/plain": [
       "3"
      ]
     },
     "metadata": {},
     "output_type": "display_data"
    }
   ],
   "source": [
    "uniform_variable = uniform.rvs()\n",
    "\n",
    "# display(uniform_variable)\n",
    "# transform uniform_random_variable into the outcome of a die throw\n",
    "\n",
    "# complete: \n",
    "die_outcome = math.ceil(uniform_variable*6)\n",
    "\n",
    "\n",
    "\n",
    "display(die_outcome)"
   ]
  },
  {
   "cell_type": "markdown",
   "metadata": {},
   "source": [
    "Clearly, we do not want to keep running the same cell over and over to generate die throws. We want to write a _function_ that returns an arbitrary amount of die throws. Below you find a template that you can complete. "
   ]
  },
  {
   "cell_type": "code",
   "execution_count": 75,
   "metadata": {
    "tags": []
   },
   "outputs": [
    {
     "data": {
      "text/plain": [
       "array([4, 4, 1, 6, 2, 2, 5, 2, 2, 3])"
      ]
     },
     "metadata": {},
     "output_type": "display_data"
    },
    {
     "name": "stdout",
     "output_type": "stream",
     "text": [
      "3.4805\n"
     ]
    }
   ],
   "source": [
    "def die_throw_rvs(sample_size = 1):\n",
    "    \"\"\"\n",
    "    function returns 'sample_size' number of random variables that simulate die-throws. \n",
    "    In other words, the values {1,2,3,4,5,6} are taken with probability 1/6\n",
    "    \"\"\"\n",
    "\n",
    "    random_variables = np.zeros(sample_size)\n",
    "    uniform_variables = uniform.rvs(size = sample_size)\n",
    "    \n",
    "    random_variables = list(map(lambda _, r: math.ceil(6*r), random_variables, uniform_variables))\n",
    "    return np.array(random_variables)\n",
    "\n",
    "# show for example the outcome of 10 die throws:\n",
    "display(die_throw_rvs(sample_size=10))\n",
    "\n",
    "# check the mean of 2k throws\n",
    "_throws = die_throw_rvs(sample_size=2000)\n",
    "print(np.mean(_throws)) "
   ]
  },
  {
   "cell_type": "markdown",
   "metadata": {},
   "source": [
    "Check that the average of 2000 throws lies close to the expectation of $X$. For this you can use the command `np.mean()`.\n",
    "\n",
    "What about the frequency of each outcome? What do you observe?"
   ]
  },
  {
   "cell_type": "code",
   "execution_count": 76,
   "metadata": {
    "tags": []
   },
   "outputs": [
    {
     "name": "stdout",
     "output_type": "stream",
     "text": [
      "6    350\n",
      "1    348\n",
      "4    339\n",
      "3    334\n",
      "2    330\n",
      "5    299\n",
      "dtype: int64\n"
     ]
    }
   ],
   "source": [
    "# print(_throws)\n",
    "# print(np.bincount(_throws))\n",
    "print(pd.value_counts(_throws))"
   ]
  },
  {
   "cell_type": "markdown",
   "metadata": {},
   "source": [
    "A second way to simulate discrete random variables is via the so-called _draw from a bag_ method.\n",
    "\n",
    "Suppose I want to decide what snack to buy in the break. Let $Y$ be the random variable that models my choice:\n",
    "\n",
    "\\begin{equation}\n",
    "Y = \\begin{cases}\n",
    "\\text{banana} & \\text{with probability } \\quad 0.3 \\\\\n",
    "\\text{cookie} & \\text{with probability } \\quad 0.15 \\\\\n",
    "\\text{protein shake} & \\text{with probability } \\quad 0.1 \\\\\n",
    "\\text{chips} & \\text{with probability } \\quad 0.2 \\\\\n",
    "\\text{apple} & \\text{with probability } \\quad 0.25 \\\\\n",
    "\\end{cases}\n",
    "\\end{equation}\n",
    "\n",
    "\n",
    "Below, we define two functions. `snack_assignment` takes a uniform random variable and returns one of the five outcomes with the correct probability. The second function `snack_rvs` returns an arbitrary amount of random snack choices."
   ]
  },
  {
   "cell_type": "code",
   "execution_count": 95,
   "metadata": {
    "tags": []
   },
   "outputs": [
    {
     "data": {
      "text/plain": [
       "array(['cookie'], dtype=object)"
      ]
     },
     "metadata": {},
     "output_type": "display_data"
    }
   ],
   "source": [
    "def snack_assignment(uniform):\n",
    "    \"\"\"\n",
    "    The function accepts a number in the interval from 0 to 1 and\n",
    "    assigns to it the corresponding outcome.\n",
    "    \"\"\"\n",
    "    possible_outcomes = np.array(['banana', 'cookie', 'protein shake','chips','apple'], dtype=object)\n",
    "    \n",
    "    i = round(uniform*(len(possible_outcomes)-1))\n",
    "    choice = np.array([ possible_outcomes[i] ], dtype=object)\n",
    "    \n",
    "    # code here\n",
    "    # transform the uniform_variables a random choice\n",
    "    \n",
    "\n",
    "    \n",
    "    \n",
    "    return choice\n",
    "\n",
    "# show a random snack choice\n",
    "display(snack_assignment(uniform.rvs()))"
   ]
  },
  {
   "cell_type": "code",
   "execution_count": null,
   "metadata": {
    "collapsed": true,
    "jupyter": {
     "outputs_hidden": true
    }
   },
   "outputs": [],
   "source": [
    "def snack_rvs(sample_size = 1):\n",
    "    \"\"\"\n",
    "    function returns 'sample_size' number of random variables with random snack choices \n",
    "    \"\"\"\n",
    "\n",
    "    random_snack_choice = np.empty(sample_size, dtype=object)\n",
    "    uniform_variables = uniform.rvs(size = sample_size)\n",
    "    \n",
    "   \n",
    "    # Use a for-loop and the function snack_assignment to assign to each value in {0,1, dots, sample_size -1} \n",
    "    # a snack choice, starting from the uniform random variable.\n",
    "\n",
    "    # complete:\n",
    "    # for counter in range(sample_size):\n",
    "        # random_snack_choice[counter] = ...\n",
    "    \n",
    "\n",
    "    \n",
    "    \n",
    "    return random_snack_choice\n",
    "\n",
    "# show for example the outcome of 5 snack choices:\n",
    "display(snack_rvs(sample_size=5))"
   ]
  },
  {
   "cell_type": "markdown",
   "metadata": {},
   "source": [
    "## Simulating continuous distributions\n",
    "\n",
    "We turn now to simulating continuous random variables. Suppose we want to simulate from an exponentially distributed random variable $X$, with parameter $\\mu > 0$. Recall that its probability density function is given by\n",
    "\n",
    "\\begin{equation}\n",
    "f(x) = \\begin{cases}\n",
    "\\mu e^{-\\mu x} & \\text{if } x \\geq 0, \\\\\n",
    "0 & \\text{if } x < 0.\n",
    "\\end{cases}\n",
    "\\end{equation}\n",
    "\n",
    "In your book (paragraph 6.2), a method is explained to generate an exponential random variable from a uniform random variable $U$ on $[0,1]$. First, one determines a function $g$ such that $g(U)$ has the same distribution as $X$."
   ]
  },
  {
   "cell_type": "markdown",
   "metadata": {},
   "source": [
    "As indicated on page 74 of the book, we find:\n",
    "\n",
    "$g(u) = - \\frac{1}{\\mu} \\log(1-u)$ or $g(u) = - \\frac{1}{\\mu} \\log(u)$\n"
   ]
  },
  {
   "cell_type": "markdown",
   "metadata": {},
   "source": [
    "We now implement the theoretical procedure in practice. Complete the function below, that allows one to generate exponential random variables with parameter $\\mu$. \n",
    "\n",
    "Recall the functions `np.exp(x)`, `np.log(x)`, and `np.sqrt(x)`, which denote the exponential, logarithm and square root function of an array `x`."
   ]
  },
  {
   "cell_type": "code",
   "execution_count": null,
   "metadata": {
    "collapsed": true,
    "jupyter": {
     "outputs_hidden": true
    }
   },
   "outputs": [],
   "source": [
    "\n",
    "def exponential_rvs(sample_size = 1, mu = 1):\n",
    "    \"\"\"\n",
    "    function returns 'sample_size' number of  \n",
    "    exponential random variable with parameter mu > 0 \n",
    "    \"\"\"\n",
    "\n",
    "    random_variables = np.zeros(sample_size)\n",
    "    uniform_variables = uniform.rvs(size = sample_size)\n",
    "    \n",
    "    # code here\n",
    "    # transform uniform_variables into exponential random variables \n",
    "    # saved in the array random_variables\n",
    "    \n",
    "\n",
    "    \n",
    "    \n",
    "    return random_variables\n",
    "\n",
    "# show for example the outcome of 10 exponential random variables:\n",
    "display(exponential_rvs(sample_size = 10))"
   ]
  },
  {
   "cell_type": "markdown",
   "metadata": {},
   "source": [
    "Simulate 5000 observations from an exponential distribution with parameter $\\mu = 3$ and compare the histogram to the probability density function of an exponential random variable with the same parameter. How well do you think the probability density function fits the histogram of the data? \n",
    "\n",
    "Compare the histogram of the 5000 observations to the probability density function of an exponential random variable with parameter $\\mu = 5$. What can you observe?"
   ]
  },
  {
   "cell_type": "code",
   "execution_count": null,
   "metadata": {
    "collapsed": true,
    "jupyter": {
     "outputs_hidden": true
    }
   },
   "outputs": [],
   "source": [
    "\n",
    "random_variables = exponential_rvs(sample_size = 5000, mu = 3)\n",
    "\n",
    "\n",
    "# set up figure\n",
    "fig, ax = plt.subplots(1,1,figsize = (10,5))\n",
    "\n",
    "# plot a histogram of the array random_variables\n",
    "# plot the density of the exponential random variable for mu = 3.\n",
    "\n",
    "# complete:\n",
    "\n",
    "# Data for plotting the function\n",
    "# x = np.arange(0.0, 3, 0.01)\n",
    "# y = ...\n",
    "\n",
    "# ax.hist(...)\n",
    "# ax.plot(...)\n",
    "\n",
    "# plt.show()"
   ]
  },
  {
   "cell_type": "markdown",
   "metadata": {},
   "source": [
    "Finally, for the 5000 observations, determine the frequency of elements larger than 1 and compare this with the theoretical probability $P(X>1)$, where $X$ is an exponentially distributed random variable with $\\mu=3$. You can use a for-loop or consider using the functions `np.greater` and `np.count_nonzero` to count frequencies of elements which satisfy certain conditions."
   ]
  },
  {
   "cell_type": "code",
   "execution_count": null,
   "metadata": {
    "collapsed": true,
    "jupyter": {
     "outputs_hidden": true
    }
   },
   "outputs": [],
   "source": [
    "random_variables = exponential_rvs(sample_size = 5000, mu = 3)\n",
    "\n",
    "\n",
    "## complete below\n",
    "\n",
    "# frequency = ...\n",
    "# theoretical_probability = ...\n",
    "\n",
    "# print(\"the empirical frequency is given by {}\".format(frequency/5000))\n",
    "# print(\"the probability is given by {}\".format(theoretical_probability))"
   ]
  },
  {
   "cell_type": "markdown",
   "metadata": {},
   "source": [
    "## Transformation of random variables\n",
    "\n",
    "In various applications, we work with the speed of a two-dimensional object. One can think for example of particles in a (2d) gas, or the speed of the wind.\n",
    "\n",
    "Three relevant concepts here are:\n",
    "* the speed of the particles/wind, as a two dimensional vector\n",
    "* the absolute speed of the particles/wind\n",
    "* the energy of the particles/wind\n",
    "\n",
    "We will not take into account any units or physical details and focus on the transformations that underly these three quantities. For example if $(V_x,V_y)$ are two random variables that model the two-dimensional speed, then $|V| = \\sqrt{V_x^2 + V_y^2}$ denotes the absolute speed, and $E = \\frac{1}{2} |V|^2$ gives the energy.\n",
    "\n",
    "We start by modeling the two-dimensional speed. First generate two vectors with 250 observations simulated from standard normal random variables, using the command `norm.rvs(size= sample_size)`. Plot the variables speed_x,speed_y in a scatter plot with the command `ax.scatter`"
   ]
  },
  {
   "cell_type": "code",
   "execution_count": null,
   "metadata": {
    "collapsed": true,
    "jupyter": {
     "outputs_hidden": true
    }
   },
   "outputs": [],
   "source": [
    "from scipy.stats import norm\n",
    "\n",
    "sample_size = 250\n",
    "\n",
    "# set up figure\n",
    "fig, ax = plt.subplots(1,1)\n",
    "\n",
    "\n",
    "# complete below\n",
    "\n",
    "#speed_x = ...\n",
    "#speed_y = ...\n",
    "\n",
    "#ax.scatter ...\n",
    "\n",
    "#plt.show()"
   ]
  },
  {
   "cell_type": "markdown",
   "metadata": {},
   "source": [
    "Next, consider again the two-dimensional points, but compute their absolute distance to the origin $v = \\sqrt{x^2+y^2}$.\n",
    "\n",
    "This yields a vector of random distances.\n",
    "\n",
    "Consider the _Rayleigh_ distribution, with the probability density function\n",
    "\n",
    "\\begin{equation}\n",
    "f(v) = \\begin{cases}\n",
    "ve^{-\\frac{1}{2}v^2} & \\text{if } v \\geq 0, \\\\\n",
    "0 & \\text{if } v < 0.\n",
    "\\end{cases}\n",
    "\\end{equation}\n",
    "\n",
    "Consider now 1000 observations simulated from standard normal variables denoting the two-dimensional speed. Plot the histogram of the resulted 1000 absolute speeds. Compare this histogram with the density of the Rayleigh distribution. What do you observe?"
   ]
  },
  {
   "cell_type": "code",
   "execution_count": null,
   "metadata": {
    "collapsed": true,
    "jupyter": {
     "outputs_hidden": true
    }
   },
   "outputs": [],
   "source": [
    "from scipy.stats import norm\n",
    "\n",
    "# set up figure\n",
    "fig, ax = plt.subplots(1,1)\n",
    "\n",
    "# generate speeds\n",
    "sample_size = 1000\n",
    "speed_x = norm.rvs(size = sample_size)\n",
    "speed_y = norm.rvs(size = sample_size)\n",
    "\n",
    "# complete:\n",
    "# absolute_speed = ... \n",
    "\n",
    "# Data for plotting the function\n",
    "# x = np.arange(0.0, 3.5, 0.01)\n",
    "# y = ...\n",
    "\n",
    "# complete :\n",
    "# ax.hist(...)\n",
    "# ax.plot(...)\n",
    "\n",
    "#plt.show()\n"
   ]
  },
  {
   "cell_type": "markdown",
   "metadata": {},
   "source": [
    "Consider now the Rayleigh distribution and simulate 1000 observations from this distribution. You can use the command `rayleigh.rvs(size=1000)`. You saw at the previous point that the absolute speed can be modelled using this distribution. \n",
    "\n",
    "Now, square the observations and multiply the result by 1/2 to obtain the energy. Plot the histogram of the resulted observations. Compare this histogram to the exponential density for parameter $\\mu=1$. What can you observe?"
   ]
  },
  {
   "cell_type": "code",
   "execution_count": null,
   "metadata": {
    "collapsed": true,
    "jupyter": {
     "outputs_hidden": true
    },
    "scrolled": true
   },
   "outputs": [],
   "source": [
    "from scipy.stats import rayleigh\n",
    "\n",
    "# set up figure\n",
    "fig, ax = plt.subplots(1,1)\n",
    "\n",
    "# generate speeds\n",
    "sample_size = 1000\n",
    "speed = rayleigh.rvs(size= sample_size)\n",
    "\n",
    "# complete:\n",
    "# energy = ... \n",
    "\n",
    "# Data for plotting the function\n",
    "# x = np.arange(0.0, 3.5, 0.01)\n",
    "# y = ...\n",
    "\n",
    "# complete :\n",
    "# ax.hist(...)\n",
    "# ax.plot(...)\n",
    "\n",
    "#plt.show()\n"
   ]
  },
  {
   "cell_type": "code",
   "execution_count": null,
   "metadata": {
    "collapsed": true,
    "jupyter": {
     "outputs_hidden": true
    }
   },
   "outputs": [],
   "source": []
  }
 ],
 "metadata": {
  "anaconda-cloud": {},
  "kernelspec": {
   "display_name": "Python 3",
   "language": "python",
   "name": "python3"
  },
  "language_info": {
   "codemirror_mode": {
    "name": "ipython",
    "version": 3
   },
   "file_extension": ".py",
   "mimetype": "text/x-python",
   "name": "python",
   "nbconvert_exporter": "python",
   "pygments_lexer": "ipython3",
   "version": "3.9.5"
  }
 },
 "nbformat": 4,
 "nbformat_minor": 4
}
